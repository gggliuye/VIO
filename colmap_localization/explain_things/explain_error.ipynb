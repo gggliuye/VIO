{
 "cells": [
  {
   "cell_type": "code",
   "execution_count": 221,
   "metadata": {},
   "outputs": [],
   "source": [
    "import numpy as np\n",
    "import cv2\n",
    "import open3d as o3d\n",
    "\n",
    "import matplotlib.pyplot as plt"
   ]
  },
  {
   "cell_type": "code",
   "execution_count": 222,
   "metadata": {},
   "outputs": [],
   "source": [
    "tag_size = 4.0\n",
    "tag_size_half = tag_size/2\n",
    "\n",
    "fx = 610.32366943\n",
    "fy = 610.5026245\n",
    "cx = 313.3859558\n",
    "cy = 237.2507269\n",
    "K = np.array([[fx, 0, cx],\n",
    "              [0, fy, cy],\n",
    "              [0, 0, 1]], dtype=np.float64)\n",
    "objPoints = np.array([[-tag_size_half, -tag_size_half, 0],\n",
    "                      [tag_size_half, -tag_size_half, 0],\n",
    "                      [tag_size_half, tag_size_half, 0],\n",
    "                      [-tag_size_half, tag_size_half, 0]], dtype=np.float64)"
   ]
  },
  {
   "cell_type": "code",
   "execution_count": 223,
   "metadata": {},
   "outputs": [],
   "source": [
    "def show_image(imgPoints, size=(480,640,3)):\n",
    "    image = np.zeros(size)+1.0\n",
    "    point_size = 10\n",
    "    point_color = (0,0,1.0)\n",
    "    thickness = -1\n",
    "    for i in range(imgPoints.shape[0]):\n",
    "        point = imgPoints[i,:]\n",
    "        cv2.circle(image, (int(point[0]), int(point[1])), point_size, point_color, thickness)\n",
    "        \n",
    "    pts = imgPoints.reshape((-1,1,2)).astype(int)\n",
    "    #cv2.polylines(image,[pts],True,(0,1.0,0),1)\n",
    "    return image"
   ]
  },
  {
   "cell_type": "code",
   "execution_count": 224,
   "metadata": {},
   "outputs": [],
   "source": [
    "def test_image_pts(objPoints, imgPoints, cameraMatrix, distCoeffs = None):\n",
    "    retval_1,rvec_1,tvec_1  = cv2.solvePnP(objPoints, imgPoints, cameraMatrix, distCoeffs)\n",
    "    R, _ = cv2.Rodrigues(rvec_1)\n",
    "    pose_1 = np.eye(4)\n",
    "    pose_1[0:3,0:3] = R\n",
    "    pose_1[0:3, 3] = tvec_1.reshape(3)\n",
    "\n",
    "    #plt.imshow(show_image(imgPoints))\n",
    "    print(\"position of the camera :\", tvec_1.transpose())\n",
    "    return pose_1, tvec_1"
   ]
  },
  {
   "cell_type": "code",
   "execution_count": 225,
   "metadata": {},
   "outputs": [],
   "source": [
    "def draw_two_set_points(imgPoints_1, imgPoints_2, size=(480,640,3)):\n",
    "    image = np.zeros(size)+1.0\n",
    "    point_size = 10\n",
    "    point_color = (0,0,1.0)\n",
    "    thickness = -1\n",
    "    for i in range(imgPoints_1.shape[0]):\n",
    "        point = imgPoints_1[i,:]\n",
    "        cv2.circle(image, (int(point[0]), int(point[1])), point_size, point_color, thickness)\n",
    "        \n",
    "    point_color = (0,1.0,0)    \n",
    "    for i in range(imgPoints_2.shape[0]):\n",
    "        point = imgPoints_2[i,:]\n",
    "        cv2.circle(image, (int(point[0]), int(point[1])), point_size, point_color, thickness)\n",
    "        \n",
    "    return image"
   ]
  },
  {
   "cell_type": "code",
   "execution_count": 226,
   "metadata": {},
   "outputs": [
    {
     "name": "stdout",
     "output_type": "stream",
     "text": [
      "position of the camera : [[ 0.49467361 -0.23082055  8.1349726 ]]\n"
     ]
    }
   ],
   "source": [
    "imgPoints_1 = np.array([[500, 370], [200, 370], [200, 69], [500, 71]], dtype=np.float64)\n",
    "pose_1, tvec_1 = test_image_pts(objPoints, imgPoints_1, K)"
   ]
  },
  {
   "cell_type": "code",
   "execution_count": 227,
   "metadata": {},
   "outputs": [
    {
     "name": "stdout",
     "output_type": "stream",
     "text": [
      "position of the camera : [[ 0.49624892 -0.22655426  8.05089544]]\n"
     ]
    }
   ],
   "source": [
    "offset = 3\n",
    "imgPoints_2 = np.array([[500, 370+offset], [200, 370+offset], [200, 69-offset], [500, 71-offset]], dtype=np.float64)\n",
    "pose_2, tvec_2 = test_image_pts(objPoints, imgPoints_2, K)"
   ]
  },
  {
   "cell_type": "code",
   "execution_count": 228,
   "metadata": {},
   "outputs": [
    {
     "name": "stdout",
     "output_type": "stream",
     "text": [
      "the distance of two cameras with 3 pixels difference is 0.08420006238708715\n"
     ]
    },
    {
     "data": {
      "image/png": "[encoded data removed]",
      "text/plain": [
       "<Figure size 432x288 with 1 Axes>"
      ]
     },
     "metadata": {
      "needs_background": "light"
     },
     "output_type": "display_data"
    }
   ],
   "source": [
    "plt.imshow(draw_two_set_points(imgPoints_1, imgPoints_2))\n",
    "distance = tvec_2 - tvec_1\n",
    "print(\"the distance of two cameras with\", offset, \"pixels difference is\", np.linalg.norm(distance))"
   ]
  },
  {
   "cell_type": "markdown",
   "metadata": {},
   "source": [
    "## Show the error"
   ]
  },
  {
   "cell_type": "code",
   "execution_count": 245,
   "metadata": {},
   "outputs": [],
   "source": [
    "def draw_camera_o3d(P_c_w, color = [1, 0, 0]):\n",
    "    P_w_c = np.linalg.inv(P_c_w)\n",
    "    w = 0.2\n",
    "    h = w * 0.75\n",
    "    z = w * 0.6\n",
    "    points = [\n",
    "        [0, 0, 0, 1],\n",
    "        [w, h, z, 1],\n",
    "        [w, -h, z, 1],\n",
    "        [-w, -h, z, 1],\n",
    "        [-w, h, z, 1]\n",
    "    ]\n",
    "    points = np.asarray(points).transpose()\n",
    "    points_camera = np.dot(P_w_c, points)\n",
    "    points = []\n",
    "    for i in range(points_camera.shape[1]):\n",
    "        points.append([points_camera[0,i], points_camera[1,i], points_camera[2,i]])\n",
    "    \n",
    "    lines = [\n",
    "        [0, 1],\n",
    "        [0, 2],\n",
    "        [0, 3],\n",
    "        [0, 4],\n",
    "        [1, 2],\n",
    "        [4, 3],\n",
    "        [4, 1],\n",
    "        [2, 3]\n",
    "    ]\n",
    "    colors = [color for i in range(len(lines))]\n",
    "    line_set = o3d.geometry.LineSet(\n",
    "        points=o3d.utility.Vector3dVector(points),\n",
    "        lines=o3d.utility.Vector2iVector(lines),\n",
    "    )\n",
    "    line_set.colors = o3d.utility.Vector3dVector(colors)\n",
    "    return line_set"
   ]
  },
  {
   "cell_type": "code",
   "execution_count": 230,
   "metadata": {},
   "outputs": [],
   "source": [
    "objPoints_other_corner = np.array([[-tag_size_half, -tag_size_half, 0],\n",
    "                      [tag_size_half, -tag_size_half, 0],\n",
    "                      [tag_size_half, tag_size_half, 0],\n",
    "                      [-tag_size_half, tag_size_half, 0]], dtype=np.float64).transpose()\n",
    "\n",
    "R, _ = cv2.Rodrigues(np.array([0,3.14/2,0]))\n",
    "objPoints_other_corner = np.dot(R, objPoints_other_corner)\n",
    "# transform to the camera coordinate system\n",
    "tvec_inv = -np.dot(pose_1[0:3,0:3].transpose(), tvec_1)\n",
    "objPoints_other_corner = np.dot(pose_1[0:3,0:3].transpose(), objPoints_other_corner) + tvec_inv\n",
    "\n",
    "# translation\n",
    "trans = np.array([-8.0,0,0.0]).reshape([3,1])\n",
    "objPoints_other_corner = objPoints_other_corner + trans"
   ]
  },
  {
   "cell_type": "code",
   "execution_count": 249,
   "metadata": {},
   "outputs": [],
   "source": [
    "points = o3d.geometry.PointCloud()\n",
    "points.points = o3d.utility.Vector3dVector(objPoints)\n",
    "\n",
    "axis_pcd = o3d.geometry.TriangleMesh.create_coordinate_frame(size=0.5, origin=[0, 0, 0])\n",
    "thing_to_show = [axis_pcd, points]\n",
    "thing_to_show.append(draw_camera_o3d(pose_1, [0,0,1.0]))\n",
    "thing_to_show.append(draw_camera_o3d(pose_2, [1.0,0,0]))\n",
    "\n",
    "o3d.visualization.draw_geometries(thing_to_show)"
   ]
  },
  {
   "cell_type": "markdown",
   "metadata": {},
   "source": [
    "![image](images/error_show.png)"
   ]
  },
  {
   "cell_type": "markdown",
   "metadata": {},
   "source": [
    "## Extreme cases"
   ]
  },
  {
   "cell_type": "code",
   "execution_count": 243,
   "metadata": {},
   "outputs": [
    {
     "name": "stdout",
     "output_type": "stream",
     "text": [
      "position of the camera : [[ 0.59418075 -0.22017815  8.00676856]]\n",
      "the distance of two cameras with 10 pixels difference is 0.16263827033821568\n"
     ]
    },
    {
     "data": {
      "image/png": "[encoded data removed]",
      "text/plain": [
       "<Figure size 432x288 with 1 Axes>"
      ]
     },
     "metadata": {
      "needs_background": "light"
     },
     "output_type": "display_data"
    }
   ],
   "source": [
    "offset = 10\n",
    "imgPoints_3 = np.array([[500-offset, 370+offset], [200+offset, 370+offset], [200+offset, 69-offset], [500-offset, 71-offset]], dtype=np.float64)\n",
    "pose_3, tvec_3 = test_image_pts(objPoints, imgPoints_3, K)\n",
    "\n",
    "plt.imshow(draw_two_set_points(imgPoints_1, imgPoints_3))\n",
    "distance = tvec_3 - tvec_1\n",
    "print(\"the distance of two cameras with\", offset, \"pixels difference is\", np.linalg.norm(distance))"
   ]
  },
  {
   "cell_type": "code",
   "execution_count": 250,
   "metadata": {},
   "outputs": [],
   "source": [
    "points = o3d.geometry.PointCloud()\n",
    "color = [(255,0,0) for i in range(objPoints.shape[0])]\n",
    "points.colors = o3d.utility.Vector3dVector(color)\n",
    "points.points = o3d.utility.Vector3dVector(objPoints)\n",
    "\n",
    "axis_pcd = o3d.geometry.TriangleMesh.create_coordinate_frame(size=0.5, origin=[0, 0, 0])\n",
    "thing_to_show = [axis_pcd, points]\n",
    "thing_to_show.append(draw_camera_o3d(pose_1, [0,0,1.0]))\n",
    "thing_to_show.append(draw_camera_o3d(pose_3, [1.0,0,0]))\n",
    "\n",
    "o3d.visualization.draw_geometries(thing_to_show)"
   ]
  },
  {
   "cell_type": "markdown",
   "metadata": {},
   "source": [
    "![image](images/error_show_2.png)"
   ]
  },
  {
   "cell_type": "code",
   "execution_count": 247,
   "metadata": {},
   "outputs": [],
   "source": [
    "points_2 = o3d.geometry.PointCloud()\n",
    "color_2 = [(255,0,0) for i in range(objPoints_other_corner.shape[1])]\n",
    "points_2.points = o3d.utility.Vector3dVector(objPoints_other_corner.transpose())\n",
    "points_2.colors = o3d.utility.Vector3dVector(color_2)\n",
    "\n",
    "point2_camera_gt = np.dot(pose_1[0:3,0:3].transpose(), objPoints_other_corner) + tvec_inv\n",
    "point2_w = np.dot(pose_3[0:3,0:3], point2_camera_gt) + tvec_3\n",
    "\n",
    "point1_camera_gt = np.dot(K, objPoints.transpose()) + tvec_inv\n",
    "point1_w = np.dot(pose_3[0:3,0:3], point1_camera_gt) + tvec_3\n",
    "\n",
    "points_4 = o3d.geometry.PointCloud()\n",
    "color_4 = [(0,0,255) for i in range(point2_w.shape[1])]\n",
    "points_4.points = o3d.utility.Vector3dVector(point2_w.transpose())\n",
    "points_4.colors = o3d.utility.Vector3dVector(color_4)\n",
    "\n",
    "axis_pcd = o3d.geometry.TriangleMesh.create_coordinate_frame(size=0.5, origin=[0, 0, 0])\n",
    "thing_to_show = [axis_pcd, points, points_2, points_4]\n",
    "thing_to_show.append(draw_camera_o3d(pose_1, [1, 0, 0]))\n",
    "thing_to_show.append(draw_camera_o3d(pose_3, [0, 0, 1]))\n",
    "\n",
    "o3d.visualization.draw_geometries(thing_to_show)"
   ]
  },
  {
   "cell_type": "markdown",
   "metadata": {},
   "source": [
    "![image](images/error_show_3.png)"
   ]
  }
 ],
 "metadata": {
  "kernelspec": {
   "display_name": "Python 3",
   "language": "python",
   "name": "python3"
  },
  "language_info": {
   "codemirror_mode": {
    "name": "ipython",
    "version": 3
   },
   "file_extension": ".py",
   "mimetype": "text/x-python",
   "name": "python",
   "nbconvert_exporter": "python",
   "pygments_lexer": "ipython3",
   "version": "3.7.3"
  }
 },
 "nbformat": 4,
 "nbformat_minor": 2
}
