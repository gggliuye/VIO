{
 "cells": [
  {
   "cell_type": "code",
   "execution_count": 1,
   "metadata": {},
   "outputs": [],
   "source": [
    "import cvxpy as cp\n",
    "import numpy as np\n",
    "import random"
   ]
  },
  {
   "cell_type": "markdown",
   "metadata": {},
   "source": [
    "## 1. Make simulate data\n",
    "\n",
    "make matched point pairs with noise"
   ]
  },
  {
   "cell_type": "code",
   "execution_count": 33,
   "metadata": {},
   "outputs": [],
   "source": [
    "def Make_Simulate_Data(num, groud_truth_T, noise_w = 0.01):\n",
    "    cloud_1 = np.random.rand(num, 3)\n",
    "    R = groud_truth_T[0:3, 0:3]\n",
    "    t = groud_truth_T[0:3, 3]\n",
    "    matrix_Cs = [np.eye(3) for i in range(num)]\n",
    "    \n",
    "    cloud_2_t = np.dot(R, np.transpose(cloud_1)) + np.reshape(t, [3,1])\n",
    "    cloud_2 = cloud_2_t.transpose() + np.random.rand(num, 3) * noise_w\n",
    "    return cloud_1, cloud_2, matrix_Cs"
   ]
  },
  {
   "cell_type": "code",
   "execution_count": 34,
   "metadata": {},
   "outputs": [
    {
     "name": "stdout",
     "output_type": "stream",
     "text": [
      "Generate  100  point pairs.\n"
     ]
    }
   ],
   "source": [
    "ground_truth = np.array(\n",
    "[[ 0.99997614, -0.00646622, -0.00232642, 1.32194518],\n",
    " [ 0.00646101,  0.99997672, -0.0022425, 0.01495234],\n",
    " [ 0.00234087,  0.00222741,  0.99999442, 0.01125935],\n",
    " [0.0,          0.0,         0.0,       1.0]]\n",
    ")\n",
    "cloud_1, cloud_2, matrix_Cs = Make_Simulate_Data(100, ground_truth, 0.05)\n",
    "print('Generate ', cloud_1.shape[0], ' point pairs.')"
   ]
  },
  {
   "cell_type": "markdown",
   "metadata": {},
   "source": [
    "## 2. Calculate matrix M"
   ]
  },
  {
   "cell_type": "code",
   "execution_count": 51,
   "metadata": {},
   "outputs": [],
   "source": [
    "def CalculateMatrixM(cloud_1, cloud_2, matrix_Cs):\n",
    "    # corresponding variable is : [vec(R).t, t.t, 1].t\n",
    "    M = np.zeros([13, 13])\n",
    "    for i in range(cloud_1.shape[0]):\n",
    "        N_i = np.concatenate((cloud_1[i,0]*np.eye(3), cloud_1[i,1]*np.eye(3), \n",
    "                              cloud_1[i,2]*np.eye(3), np.eye(3), -cloud_2[i,:].reshape([3,1])), axis = 1)\n",
    "        M = M + np.dot(N_i.transpose(), np.dot(matrix_Cs[i], N_i))\n",
    "    return M\n",
    "\n",
    "def CalculateMatrixReOrderM(cloud_1, cloud_2, matrix_Cs):\n",
    "    # corresponding variable ouput : [vec(R).t, 1, t.t].t\n",
    "    M = np.zeros([13, 13])\n",
    "    for i in range(cloud_1.shape[0]):\n",
    "        N_i = np.concatenate((cloud_1[i,0]*np.eye(3), cloud_1[i,1]*np.eye(3), \n",
    "                              cloud_1[i,2]*np.eye(3), -cloud_2[i,:].reshape([3,1]), np.eye(3)), axis = 1)\n",
    "        M = M + np.dot(N_i.transpose(), np.dot(matrix_Cs[i], N_i))\n",
    "    return M\n",
    "\n",
    "def MarginalizeReOrderM(M):\n",
    "    M_r_r = M[0:10, 0:10]\n",
    "    M_r_t = M[0:10, 10:13]\n",
    "    M_t_r = M[10:13, 0:10]\n",
    "    M_t_t = M[10:13, 10:13]\n",
    "    \n",
    "    M_t_t_inv = np.linalg.inv(M_t_t)\n",
    "    Q = M_r_r - np.dot(M_r_t, np.dot(M_t_t_inv, M_t_r))\n",
    "    return Q, M_t_t_inv, M_t_r"
   ]
  },
  {
   "cell_type": "code",
   "execution_count": 52,
   "metadata": {},
   "outputs": [],
   "source": [
    "M = CalculateMatrixReOrderM(cloud_1, cloud_2, matrix_Cs)\n",
    "Q, M_t_t_inv, M_t_r = MarginalizeReOrderM(M)"
   ]
  },
  {
   "cell_type": "markdown",
   "metadata": {},
   "source": [
    "## 3. Form the duality"
   ]
  },
  {
   "cell_type": "code",
   "execution_count": null,
   "metadata": {},
   "outputs": [],
   "source": []
  },
  {
   "cell_type": "markdown",
   "metadata": {},
   "source": [
    "# Other test"
   ]
  },
  {
   "cell_type": "code",
   "execution_count": 1,
   "metadata": {},
   "outputs": [],
   "source": [
    "from kdtree import *\n",
    "\n",
    "import open3d as o3d\n",
    "from pyntcloud import PyntCloud"
   ]
  },
  {
   "cell_type": "code",
   "execution_count": 2,
   "metadata": {},
   "outputs": [],
   "source": [
    "def feature_extraction_fpfh(cloud_numpy, voxel_size = 0.05):\n",
    "    point_cloud_o3d = o3d.geometry.PointCloud()\n",
    "    point_cloud_o3d.points = o3d.utility.Vector3dVector(cloud_numpy[:,0:3])\n",
    "    \n",
    "    point_cloud_o3d = point_cloud_o3d.voxel_down_sample(voxel_size) \n",
    "    \n",
    "    radius_normal = voxel_size * 2 \n",
    "    point_cloud_o3d.estimate_normals(\n",
    "        o3d.geometry.KDTreeSearchParamHybrid(radius=radius_normal, max_nn=30))\n",
    "\n",
    "    radius_feature = voxel_size * 5\n",
    "    point_cloud_o3d_fpfh = o3d.registration.compute_fpfh_feature(\n",
    "        point_cloud_o3d,\n",
    "        o3d.geometry.KDTreeSearchParamHybrid(radius=radius_feature, max_nn=100))\n",
    "    return point_cloud_o3d, point_cloud_o3d_fpfh"
   ]
  },
  {
   "cell_type": "code",
   "execution_count": 3,
   "metadata": {},
   "outputs": [],
   "source": [
    "def feature_based_icp(cloud_1, cloud_2, voxel_size = 0.05):\n",
    "    source_cloud, source_feature = feature_extraction_fpfh(cloud_2, voxel_size)\n",
    "    target_cloud, target_feature = feature_extraction_fpfh(cloud_1, voxel_size)\n",
    "    \n",
    "    distance_threshold = voxel_size * 1.5 \n",
    "    result = o3d.registration.registration_fast_based_on_feature_matching(\n",
    "        source_cloud, target_cloud, source_feature, target_feature, o3d.registration.FastGlobalRegistrationOption(\n",
    "            maximum_correspondence_distance=distance_threshold))\n",
    "    return result"
   ]
  },
  {
   "cell_type": "code",
   "execution_count": 32,
   "metadata": {},
   "outputs": [],
   "source": [
    "def load_cloud(path):\n",
    "    point_cloud_pynt = PyntCloud.from_file(path)\n",
    "    point_cloud_o3d = point_cloud_pynt.to_instance(\"open3d\", mesh=False)\n",
    "    cloud = np.asarray(point_cloud_o3d.points)[:,0:3]\n",
    "    return cloud\n",
    "\n",
    "def load_cloud_and_color(path):\n",
    "    point_cloud_pynt = PyntCloud.from_file(path)\n",
    "    point_cloud_o3d = point_cloud_pynt.to_instance(\"open3d\", mesh=False)\n",
    "    cloud = np.asarray(point_cloud_o3d.points)[:,0:3]\n",
    "    return cloud, point_cloud_o3d.colors\n",
    "\n",
    "def Transform_cloud(cloud, R, t):\n",
    "    new_cloud = np.dot(R, np.transpose(cloud)) + np.reshape(t, [3,1])\n",
    "    return new_cloud.transpose()"
   ]
  },
  {
   "cell_type": "code",
   "execution_count": 24,
   "metadata": {},
   "outputs": [],
   "source": [
    "# randomly sample point in cloud second\n",
    "def find_match(root_cloud_first, points_first, cloud_second, ratio = 0.1, distance_threshold = 1.0):\n",
    "    #root_cloud_first = kdtree_construction(points_first, leaf_size=4)\n",
    "    matched_first = []\n",
    "    matched_second = []\n",
    "    k = 1\n",
    "    \n",
    "    #distance_threshold = 1.0\n",
    "    subsample_ids = np.random.choice(cloud_second.shape[0], int(cloud_second.shape[0]*ratio), replace=False)\n",
    "    distance_sum = 0\n",
    "    for idx in subsample_ids:\n",
    "        query = np.asarray(cloud_second[idx,:])\n",
    "        result_set = KNNResultSet(capacity=k)\n",
    "        kdtree_knn_search(root_cloud_first, points_first, result_set, query)\n",
    "        if(result_set.dist_index_list[0].distance > distance_threshold):\n",
    "            continue\n",
    "        match_id = result_set.dist_index_list[0].index\n",
    "        matched_first.append(points_first[match_id,:])\n",
    "        matched_second.append(query)\n",
    "        #print(result_set.dist_index_list[0].distance)\n",
    "        distance_sum += result_set.dist_index_list[0].distance\n",
    "        \n",
    "    distance_sum = distance_sum / len(matched_first)\n",
    "    return np.asarray(matched_first), np.asarray(matched_second), distance_sum\n",
    "\n",
    "def SvdBasedPoseEstimation(matched_1, matched_2):\n",
    "    centroid_1 = matched_1.mean(axis=0)\n",
    "    centroid_2 = matched_2.mean(axis=0)\n",
    "    \n",
    "    centered_1 = matched_1 - centroid_1\n",
    "    centered_2 = matched_2 - centroid_2\n",
    "    \n",
    "    Matrix_W = np.dot(np.transpose(centered_1), centered_2)\n",
    "    U,eigenvalues,VT = np.linalg.svd(Matrix_W)\n",
    "    #eigenvectors = np.transpose(VT)\n",
    "    R = np.dot(U, VT)\n",
    "    t = np.transpose(centroid_1) - np.dot(R, np.transpose(centroid_2))\n",
    "    return R, t\n",
    "\n",
    "def ICP(points_first, points_second, iteration = 10, ratio = 0.1, max_distance = 1.0, verbose = True):    \n",
    "    result_R = np.eye(3)\n",
    "    result_t = np.zeros(3)\n",
    "    points_second_transformed = Transform_cloud(points_second[:,0:3], result_R, result_t)\n",
    "    root_cloud_first = kdtree_construction(points_first, leaf_size=4)\n",
    "    for i in range(iteration):\n",
    "        if(verbose):\n",
    "            print('--> iteration : ', i)\n",
    "            \n",
    "        if(i > iteration*2/3):\n",
    "            max_distance_t = max_distance/3\n",
    "        elif(i > iteration/2):\n",
    "            max_distance_t = max_distance/2\n",
    "        else:\n",
    "            max_distance_t = max_distance\n",
    "        matched_first, matched_second, distance_average = find_match(root_cloud_first, points_first[:,0:3], points_second_transformed, ratio, max_distance_t)\n",
    "        if(verbose):\n",
    "            print('    matches : ', matched_first.shape[0], ' average distance : ',distance_average)\n",
    "        if(distance_average < 0.05):\n",
    "            if(verbose):\n",
    "                print(' Converged !')\n",
    "            break\n",
    "        R, t = SvdBasedPoseEstimation(matched_first, matched_second)\n",
    "        result_R = np.dot(R, result_R)\n",
    "        result_t = np.dot(R, result_t) + t\n",
    "        points_second_transformed = Transform_cloud(points_second_transformed, R, t)\n",
    "        \n",
    "    return points_second_transformed, result_R, result_t"
   ]
  },
  {
   "cell_type": "code",
   "execution_count": 29,
   "metadata": {},
   "outputs": [],
   "source": [
    "def inverse_T(T):\n",
    "    Final_T = np.eye(4,4)\n",
    "    inverse_R = np.transpose(T[0:3, 0:3])\n",
    "    inverse_t = -np.dot(inverse_R, T[0:3, 3])\n",
    "    Final_T[0:3, 0:3] = inverse_R\n",
    "    Final_T[0:3, 3] = inverse_t\n",
    "    return Final_T\n",
    "\n",
    "def rotationMatrixToEulerAngles(R):\n",
    "    sy = np.sqrt(R[0,0] * R[0,0] +R[1,0] * R[1,0] );\n",
    "    singular = sy < 1e-6;\n",
    "    if (not singular) :\n",
    "        x = np.arctan2(R[2,1] , R[2,2]);\n",
    "        y = np.arctan2(-R[2,0], sy);\n",
    "        z = np.arctan2(R[1,0], R[0,0]);\n",
    "    else :\n",
    "        x = np.arctan2(-R[1,2], R[1,1]);\n",
    "        y = np.arctan2(-R[2,0], sy);\n",
    "        z = 0;\n",
    "    #if 1\n",
    "    x = x*180.0/3.141592653589793;\n",
    "    y = y*180.0/3.141592653589793;\n",
    "    z = z*180.0/3.141592653589793;\n",
    "    #endif\n",
    "    return np.array([x, y, z]);"
   ]
  },
  {
   "cell_type": "code",
   "execution_count": 6,
   "metadata": {},
   "outputs": [],
   "source": [
    "def FPFH_and_ICP(cloud_1, cloud_2, iteration = 10, verbose = True):\n",
    "    FPFH_result = feature_based_icp(cloud_1, cloud_2, 0.2)\n",
    "    result_R = FPFH_result.transformation[0:3, 0:3]\n",
    "    result_t = FPFH_result.transformation[0:3, 3]\n",
    "    points_second_transformed = Transform_cloud(cloud_2, result_R, result_t)\n",
    "    points_second_transformed, R, t = ICP(cloud_1, points_second_transformed, iteration, 0.1, 3.0, verbose)\n",
    "    result_R = np.dot(R, result_R)\n",
    "    result_t = np.dot(R, result_t) + t\n",
    "    return points_second_transformed, result_R, result_t"
   ]
  },
  {
   "cell_type": "markdown",
   "metadata": {},
   "source": [
    "#### Initialize with FPFH"
   ]
  },
  {
   "cell_type": "code",
   "execution_count": 17,
   "metadata": {},
   "outputs": [],
   "source": [
    "points_first = load_cloud(\"D:/SFM/winter_garden/garden_l_sub_2.ply\")\n",
    "points_second = load_cloud(\"D:/SFM/winter_garden/sfm_sub_garden.ply\") * 5\n",
    "FPFH_result = feature_based_icp(points_first, points_second, 0.05)\n",
    "result_R = FPFH_result.transformation[0:3, 0:3]\n",
    "result_t = FPFH_result.transformation[0:3, 3]\n",
    "points_second_transformed = Transform_cloud(points_second, result_R, result_t)"
   ]
  },
  {
   "cell_type": "markdown",
   "metadata": {},
   "source": [
    "#### Initialize with human"
   ]
  },
  {
   "cell_type": "code",
   "execution_count": 18,
   "metadata": {},
   "outputs": [
    {
     "name": "stdout",
     "output_type": "stream",
     "text": [
      "the initial scale guess :  2.8153442443209435\n"
     ]
    }
   ],
   "source": [
    "human_guess = np.array([\n",
    "[1.974505543709, -0.080609202385, -2.005241155624, 0.632752060890],\n",
    "[2.001228809357, -0.131519153714, 1.975841164589, 7.528551101685],\n",
    "[-0.150247544050, -2.811114788055, -0.034939885139, 1.992925643921]\n",
    "])\n",
    "Rs = human_guess[0:3, 0:3]\n",
    "scale_guess = np.sqrt(np.dot(np.transpose(Rs), Rs)[0,0])\n",
    "\n",
    "result_R = human_guess[0:3, 0:3] / scale_guess\n",
    "result_t = human_guess[0:3, 3]\n",
    "print(\"the initial scale guess : \", scale_guess)"
   ]
  },
  {
   "cell_type": "code",
   "execution_count": 35,
   "metadata": {},
   "outputs": [],
   "source": [
    "points_first = load_cloud(\"D:/SFM/winter_garden/garden_l_sub_1.ply\")\n",
    "points_second, colors_second = load_cloud_and_color(\"D:/SFM/winter_garden/fused_5.ply\")\n",
    "points_second = points_second * scale_guess\n",
    "points_second_transformed = Transform_cloud(points_second, result_R, result_t)"
   ]
  },
  {
   "cell_type": "code",
   "execution_count": 26,
   "metadata": {},
   "outputs": [
    {
     "name": "stdout",
     "output_type": "stream",
     "text": [
      "--> iteration :  0\n",
      "    matches :  8125  average distance :  0.3039414972240154\n",
      "--> iteration :  1\n",
      "    matches :  8126  average distance :  0.26273079585021164\n",
      "--> iteration :  2\n",
      "    matches :  8124  average distance :  0.2316590798277032\n",
      "--> iteration :  3\n",
      "    matches :  8122  average distance :  0.20945110889996982\n",
      "--> iteration :  4\n",
      "    matches :  8124  average distance :  0.1915288055260187\n",
      "--> iteration :  5\n",
      "    matches :  8122  average distance :  0.17773031326152436\n",
      "--> iteration :  6\n",
      "    matches :  8124  average distance :  0.16751799101647438\n",
      "--> iteration :  7\n",
      "    matches :  8125  average distance :  0.16411750730540298\n",
      "--> iteration :  8\n",
      "    matches :  8121  average distance :  0.1574458172599271\n",
      "--> iteration :  9\n",
      "    matches :  8121  average distance :  0.154443245908905\n",
      "--> iteration :  10\n",
      "    matches :  8124  average distance :  0.15394604818500793\n",
      "--> iteration :  11\n",
      "    matches :  8112  average distance :  0.15095918575806255\n",
      "--> iteration :  12\n",
      "    matches :  8116  average distance :  0.15223231306788235\n",
      "--> iteration :  13\n",
      "    matches :  8108  average distance :  0.1463837076423897\n",
      "--> iteration :  14\n",
      "    matches :  8093  average distance :  0.14487745696393955\n",
      "--> iteration :  15\n",
      "    matches :  8074  average distance :  0.14285658388488154\n",
      "--> iteration :  16\n",
      "    matches :  8084  average distance :  0.14402054879399828\n",
      "--> iteration :  17\n",
      "    matches :  8091  average distance :  0.14551629209360498\n",
      "--> iteration :  18\n",
      "    matches :  8073  average distance :  0.14385496587992877\n",
      "--> iteration :  19\n",
      "    matches :  8076  average distance :  0.14494770591932177\n"
     ]
    }
   ],
   "source": [
    "points_second_transformed, R, t = ICP(points_first, points_second_transformed, 20, 0.01, 3.0, True)"
   ]
  },
  {
   "cell_type": "code",
   "execution_count": 39,
   "metadata": {},
   "outputs": [
    {
     "name": "stdout",
     "output_type": "stream",
     "text": [
      "Final Matrix is : \n",
      "[[ 0.71697014  0.00971432 -0.69703609  0.67756739]\n",
      " [ 0.69699781 -0.02743195  0.71654827  7.25156145]\n",
      " [-0.01216027 -0.99957636 -0.02643874  1.54380928]\n",
      " [ 0.          0.          0.          1.        ]]\n",
      "Inverse T is : \n",
      " [[ 0.71697014  0.69699781 -0.01216027 -5.52134488]\n",
      " [ 0.00971432 -0.02743195 -0.99957636  1.73549765]\n",
      " [-0.69703609  0.71654827 -0.02643874 -4.68298854]\n",
      " [ 0.          0.          0.          1.        ]]\n",
      "Euler angles are :  [92.11310482 44.18969387  0.77626023]\n",
      "Should copy the Final matrix to unity.\n"
     ]
    }
   ],
   "source": [
    "Final_R = np.dot(R, result_R)\n",
    "Final_t = np.dot(R, result_t) + t\n",
    "Final_T = np.eye(4,4)\n",
    "Final_T[0:3, 0:3] = Final_R\n",
    "Final_T[0:3, 3] = Final_t\n",
    "print(\"Final Matrix is : \")\n",
    "print(Final_T)\n",
    "print(\"Inverse T is : \\n\", inverse_T(Final_T))\n",
    "print(\"Euler angles are : \", rotationMatrixToEulerAngles(inverse_T(Final_T)[0:3, 0:3]))\n",
    "print(\"Should copy the Final matrix to unity.\")"
   ]
  },
  {
   "cell_type": "code",
   "execution_count": 38,
   "metadata": {},
   "outputs": [],
   "source": [
    "point_cloud_o3d_1 = o3d.geometry.PointCloud()\n",
    "point_cloud_o3d_1.points = o3d.utility.Vector3dVector(points_first[:,0:3])\n",
    "colors = [[1, 0, 0] for i in range(points_first.shape[0])]\n",
    "point_cloud_o3d_1.colors = o3d.utility.Vector3dVector(colors)\n",
    "\n",
    "point_cloud_o3d_2 = o3d.geometry.PointCloud()\n",
    "points_second_transformed = Transform_cloud(points_second, Final_R, Final_t)\n",
    "point_cloud_o3d_2.points = o3d.utility.Vector3dVector(points_second_transformed[:,0:3])\n",
    "point_cloud_o3d_2.colors = o3d.utility.Vector3dVector(np.asarray(colors_second) / 255)\n",
    "\n",
    "o3d.visualization.draw_geometries([point_cloud_o3d_1, point_cloud_o3d_2])"
   ]
  },
  {
   "cell_type": "markdown",
   "metadata": {},
   "source": [
    "![image](images/fused_5_matched.PNG)"
   ]
  }
 ],
 "metadata": {
  "kernelspec": {
   "display_name": "Python 3",
   "language": "python",
   "name": "python3"
  },
  "language_info": {
   "codemirror_mode": {
    "name": "ipython",
    "version": 3
   },
   "file_extension": ".py",
   "mimetype": "text/x-python",
   "name": "python",
   "nbconvert_exporter": "python",
   "pygments_lexer": "ipython3",
   "version": "3.7.1"
  }
 },
 "nbformat": 4,
 "nbformat_minor": 2
}
