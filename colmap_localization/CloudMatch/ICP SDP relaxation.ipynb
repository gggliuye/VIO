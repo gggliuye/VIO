{
 "cells": [
  {
   "cell_type": "code",
   "execution_count": 3,
   "metadata": {},
   "outputs": [],
   "source": [
    "import numpy as np\n",
    "import random"
   ]
  },
  {
   "cell_type": "code",
   "execution_count": 1,
   "metadata": {},
   "outputs": [],
   "source": [
    "from kdtree import *\n",
    "\n",
    "import open3d as o3d\n",
    "from pyntcloud import PyntCloud"
   ]
  },
  {
   "cell_type": "code",
   "execution_count": 2,
   "metadata": {},
   "outputs": [],
   "source": [
    "def feature_extraction_fpfh(cloud_numpy, voxel_size = 0.05):\n",
    "    point_cloud_o3d = o3d.geometry.PointCloud()\n",
    "    point_cloud_o3d.points = o3d.utility.Vector3dVector(cloud_numpy[:,0:3])\n",
    "    \n",
    "    point_cloud_o3d = point_cloud_o3d.voxel_down_sample(voxel_size) \n",
    "    \n",
    "    radius_normal = voxel_size * 2 \n",
    "    point_cloud_o3d.estimate_normals(\n",
    "        o3d.geometry.KDTreeSearchParamHybrid(radius=radius_normal, max_nn=30))\n",
    "\n",
    "    radius_feature = voxel_size * 5\n",
    "    point_cloud_o3d_fpfh = o3d.registration.compute_fpfh_feature(\n",
    "        point_cloud_o3d,\n",
    "        o3d.geometry.KDTreeSearchParamHybrid(radius=radius_feature, max_nn=100))\n",
    "    return point_cloud_o3d, point_cloud_o3d_fpfh"
   ]
  },
  {
   "cell_type": "code",
   "execution_count": 4,
   "metadata": {},
   "outputs": [],
   "source": [
    "def feature_based_icp(cloud_1, cloud_2, voxel_size = 0.05):\n",
    "    source_cloud, source_feature = feature_extraction_fpfh(cloud_2, voxel_size)\n",
    "    target_cloud, target_feature = feature_extraction_fpfh(cloud_1, voxel_size)\n",
    "    \n",
    "    distance_threshold = voxel_size * 1.5 \n",
    "    result = o3d.registration.registration_fast_based_on_feature_matching(\n",
    "        source_cloud, target_cloud, source_feature, target_feature, o3d.registration.FastGlobalRegistrationOption(\n",
    "            maximum_correspondence_distance=distance_threshold))\n",
    "    return result"
   ]
  },
  {
   "cell_type": "code",
   "execution_count": 5,
   "metadata": {},
   "outputs": [],
   "source": [
    "def load_cloud(path):\n",
    "    point_cloud_pynt = PyntCloud.from_file(path)\n",
    "    point_cloud_o3d = point_cloud_pynt.to_instance(\"open3d\", mesh=False)\n",
    "    cloud = np.asarray(point_cloud_o3d.points)[:,0:3]\n",
    "    return cloud\n",
    "\n",
    "def load_cloud_and_color(path):\n",
    "    point_cloud_pynt = PyntCloud.from_file(path)\n",
    "    point_cloud_o3d = point_cloud_pynt.to_instance(\"open3d\", mesh=False)\n",
    "    cloud = np.asarray(point_cloud_o3d.points)[:,0:3]\n",
    "    return cloud, point_cloud_o3d.colors\n",
    "\n",
    "def Transform_cloud(cloud, R, t):\n",
    "    new_cloud = np.dot(R, np.transpose(cloud)) + np.reshape(t, [3,1])\n",
    "    return new_cloud.transpose()"
   ]
  },
  {
   "cell_type": "code",
   "execution_count": 6,
   "metadata": {},
   "outputs": [],
   "source": [
    "# randomly sample point in cloud second\n",
    "def find_match(root_cloud_first, points_first, cloud_second, ratio = 0.1, distance_threshold = 1.0):\n",
    "    #root_cloud_first = kdtree_construction(points_first, leaf_size=4)\n",
    "    matched_first = []\n",
    "    matched_second = []\n",
    "    k = 1\n",
    "    \n",
    "    #distance_threshold = 1.0\n",
    "    subsample_ids = np.random.choice(cloud_second.shape[0], int(cloud_second.shape[0]*ratio), replace=False)\n",
    "    distance_sum = 0\n",
    "    for idx in subsample_ids:\n",
    "        query = np.asarray(cloud_second[idx,:])\n",
    "        result_set = KNNResultSet(capacity=k)\n",
    "        kdtree_knn_search(root_cloud_first, points_first, result_set, query)\n",
    "        if(result_set.dist_index_list[0].distance > distance_threshold):\n",
    "            continue\n",
    "        match_id = result_set.dist_index_list[0].index\n",
    "        matched_first.append(points_first[match_id,:])\n",
    "        matched_second.append(query)\n",
    "        #print(result_set.dist_index_list[0].distance)\n",
    "        distance_sum += result_set.dist_index_list[0].distance\n",
    "        \n",
    "    distance_sum = distance_sum / len(matched_first)\n",
    "    return np.asarray(matched_first), np.asarray(matched_second), distance_sum\n",
    "\n",
    "def SvdBasedPoseEstimation(matched_1, matched_2):\n",
    "    centroid_1 = matched_1.mean(axis=0)\n",
    "    centroid_2 = matched_2.mean(axis=0)\n",
    "    \n",
    "    centered_1 = matched_1 - centroid_1\n",
    "    centered_2 = matched_2 - centroid_2\n",
    "    \n",
    "    Matrix_W = np.dot(np.transpose(centered_1), centered_2)\n",
    "    U,eigenvalues,VT = np.linalg.svd(Matrix_W)\n",
    "    #eigenvectors = np.transpose(VT)\n",
    "    R = np.dot(U, VT)\n",
    "    t = np.transpose(centroid_1) - np.dot(R, np.transpose(centroid_2))\n",
    "    return R, t\n",
    "\n",
    "def ICP(points_first, points_second, iteration = 10, ratio = 0.1, max_distance = 1.0, verbose = True):    \n",
    "    result_R = np.eye(3)\n",
    "    result_t = np.zeros(3)\n",
    "    points_second_transformed = Transform_cloud(points_second[:,0:3], result_R, result_t)\n",
    "    root_cloud_first = kdtree_construction(points_first, leaf_size=4)\n",
    "    for i in range(iteration):\n",
    "        if(verbose):\n",
    "            print('--> iteration : ', i)\n",
    "            \n",
    "        if(i > iteration*2/3):\n",
    "            max_distance_t = max_distance/3\n",
    "        elif(i > iteration/2):\n",
    "            max_distance_t = max_distance/2\n",
    "        else:\n",
    "            max_distance_t = max_distance\n",
    "        matched_first, matched_second, distance_average = find_match(root_cloud_first, points_first[:,0:3], points_second_transformed, ratio, max_distance_t)\n",
    "        if(verbose):\n",
    "            print('    matches : ', matched_first.shape[0], ' average distance : ',distance_average)\n",
    "        if(distance_average < 0.05):\n",
    "            if(verbose):\n",
    "                print(' Converged !')\n",
    "            break\n",
    "        R, t = SvdBasedPoseEstimation(matched_first, matched_second)\n",
    "        result_R = np.dot(R, result_R)\n",
    "        result_t = np.dot(R, result_t) + t\n",
    "        points_second_transformed = Transform_cloud(points_second_transformed, R, t)\n",
    "        \n",
    "    return points_second_transformed, result_R, result_t"
   ]
  },
  {
   "cell_type": "code",
   "execution_count": 7,
   "metadata": {},
   "outputs": [],
   "source": [
    "def inverse_T(T):\n",
    "    Final_T = np.eye(4,4)\n",
    "    inverse_R = np.transpose(T[0:3, 0:3])\n",
    "    inverse_t = -np.dot(inverse_R, T[0:3, 3])\n",
    "    Final_T[0:3, 0:3] = inverse_R\n",
    "    Final_T[0:3, 3] = inverse_t\n",
    "    return Final_T\n",
    "\n",
    "def rotationMatrixToEulerAngles(R):\n",
    "    sy = np.sqrt(R[0,0] * R[0,0] +R[1,0] * R[1,0] );\n",
    "    singular = sy < 1e-6;\n",
    "    if (not singular) :\n",
    "        x = np.arctan2(R[2,1] , R[2,2]);\n",
    "        y = np.arctan2(-R[2,0], sy);\n",
    "        z = np.arctan2(R[1,0], R[0,0]);\n",
    "    else :\n",
    "        x = np.arctan2(-R[1,2], R[1,1]);\n",
    "        y = np.arctan2(-R[2,0], sy);\n",
    "        z = 0;\n",
    "    #if 1\n",
    "    x = x*180.0/3.141592653589793;\n",
    "    y = y*180.0/3.141592653589793;\n",
    "    z = z*180.0/3.141592653589793;\n",
    "    #endif\n",
    "    return np.array([x, y, z]);"
   ]
  },
  {
   "cell_type": "code",
   "execution_count": 8,
   "metadata": {},
   "outputs": [],
   "source": [
    "def FPFH_and_ICP(cloud_1, cloud_2, iteration = 10, verbose = True):\n",
    "    FPFH_result = feature_based_icp(cloud_1, cloud_2, 0.2)\n",
    "    result_R = FPFH_result.transformation[0:3, 0:3]\n",
    "    result_t = FPFH_result.transformation[0:3, 3]\n",
    "    points_second_transformed = Transform_cloud(cloud_2, result_R, result_t)\n",
    "    points_second_transformed, R, t = ICP(cloud_1, points_second_transformed, iteration, 0.1, 3.0, verbose)\n",
    "    result_R = np.dot(R, result_R)\n",
    "    result_t = np.dot(R, result_t) + t\n",
    "    return points_second_transformed, result_R, result_t"
   ]
  },
  {
   "cell_type": "markdown",
   "metadata": {},
   "source": [
    "#### Initialize with human"
   ]
  },
  {
   "cell_type": "code",
   "execution_count": 9,
   "metadata": {},
   "outputs": [
    {
     "name": "stdout",
     "output_type": "stream",
     "text": [
      "the initial scale guess :  3.837999837321662\n"
     ]
    }
   ],
   "source": [
    "human_guess = np.array([\n",
    "[1.651528358459, -0.080790385604, 3.463548421860, -0.315829426050],\n",
    "[-3.460947036743, -0.211976200342, 1.645343184471, 13.699180603027],\n",
    "[0.156660273671, -3.831290006638, -0.164068713784, 2.240842103958],\n",
    "])\n",
    "Rs = human_guess[0:3, 0:3]\n",
    "scale_guess = np.sqrt(np.dot(np.transpose(Rs), Rs)[0,0])\n",
    "\n",
    "result_R = human_guess[0:3, 0:3] / scale_guess\n",
    "result_t = human_guess[0:3, 3]\n",
    "print(\"the initial scale guess : \", scale_guess)"
   ]
  },
  {
   "cell_type": "code",
   "execution_count": 17,
   "metadata": {},
   "outputs": [],
   "source": [
    "scale_guess = 3.85"
   ]
  },
  {
   "cell_type": "code",
   "execution_count": 18,
   "metadata": {},
   "outputs": [],
   "source": [
    "points_first = load_cloud(\"D:/SFM/winter_garden/garden_l_sub_1.ply\")\n",
    "points_second, colors_second = load_cloud_and_color(\"D:/SFM/CloudMatch/715_garden/sparse_cloud.ply\")\n",
    "points_second = points_second * scale_guess\n",
    "points_second_transformed = Transform_cloud(points_second, result_R, result_t)"
   ]
  },
  {
   "cell_type": "code",
   "execution_count": 19,
   "metadata": {},
   "outputs": [
    {
     "name": "stdout",
     "output_type": "stream",
     "text": [
      "--> iteration :  0\n",
      "    matches :  1728  average distance :  0.5285210585789266\n",
      "--> iteration :  1\n",
      "    matches :  1733  average distance :  0.42834294525328\n",
      "--> iteration :  2\n",
      "    matches :  1722  average distance :  0.36708817992997017\n",
      "--> iteration :  3\n",
      "    matches :  1728  average distance :  0.3133070564035144\n",
      "--> iteration :  4\n",
      "    matches :  1710  average distance :  0.28176490966817597\n",
      "--> iteration :  5\n",
      "    matches :  1729  average distance :  0.25561617308014917\n",
      "--> iteration :  6\n",
      "    matches :  1720  average distance :  0.24897081569412663\n",
      "--> iteration :  7\n",
      "    matches :  1726  average distance :  0.23657414288781903\n",
      "--> iteration :  8\n",
      "    matches :  1719  average distance :  0.23671343877533346\n",
      "--> iteration :  9\n",
      "    matches :  1727  average distance :  0.2160523843225688\n",
      "--> iteration :  10\n",
      "    matches :  1722  average distance :  0.21244436966571306\n",
      "--> iteration :  11\n",
      "    matches :  1719  average distance :  0.22439926139860117\n",
      "--> iteration :  12\n",
      "    matches :  1723  average distance :  0.21758520045625668\n",
      "--> iteration :  13\n",
      "    matches :  1716  average distance :  0.2070737339905863\n",
      "--> iteration :  14\n",
      "    matches :  1725  average distance :  0.20878100839038238\n",
      "--> iteration :  15\n",
      "    matches :  1725  average distance :  0.21928712444267912\n",
      "--> iteration :  16\n",
      "    matches :  1701  average distance :  0.19328360141216624\n",
      "--> iteration :  17\n",
      "    matches :  1715  average distance :  0.18327001671309784\n",
      "--> iteration :  18\n",
      "    matches :  1700  average distance :  0.18348610820089514\n",
      "--> iteration :  19\n",
      "    matches :  1703  average distance :  0.19156382324950208\n",
      "--> iteration :  20\n",
      "    matches :  1685  average distance :  0.18424346653267396\n",
      "--> iteration :  21\n",
      "    matches :  1686  average distance :  0.16743981617432782\n",
      "--> iteration :  22\n",
      "    matches :  1680  average distance :  0.16068572893776992\n",
      "--> iteration :  23\n",
      "    matches :  1682  average distance :  0.16943281535099877\n",
      "--> iteration :  24\n",
      "    matches :  1665  average distance :  0.16585536028751718\n",
      "--> iteration :  25\n",
      "    matches :  1679  average distance :  0.1674717638431245\n",
      "--> iteration :  26\n",
      "    matches :  1674  average distance :  0.16950822302947469\n",
      "--> iteration :  27\n",
      "    matches :  1685  average distance :  0.1698308183669627\n",
      "--> iteration :  28\n",
      "    matches :  1673  average distance :  0.160040833685129\n",
      "--> iteration :  29\n",
      "    matches :  1692  average distance :  0.17381182461611897\n"
     ]
    }
   ],
   "source": [
    "points_second_transformed, R, t = ICP(points_first, points_second_transformed, 30, 0.01, 3.0, True)"
   ]
  },
  {
   "cell_type": "code",
   "execution_count": 20,
   "metadata": {
    "scrolled": true
   },
   "outputs": [
    {
     "name": "stdout",
     "output_type": "stream",
     "text": [
      "Final Matrix is : \n",
      "[[ 0.44141694 -0.10947157  0.8905992  -0.26597446]\n",
      " [-0.89696069 -0.02645493  0.44131808 13.53898264]\n",
      " [-0.02475103 -0.99363786 -0.10986932  1.46913966]\n",
      " [ 0.          0.          0.          1.        ]]\n",
      "Inverse T is : \n",
      " [[ 0.44141694 -0.89696069 -0.02475103 12.29770352]\n",
      " [-0.10947157 -0.02645493 -0.99363786  1.78884905]\n",
      " [ 0.8905992   0.44131808 -0.10986932 -5.57670775]\n",
      " [ 0.          0.          0.          1.        ]]\n",
      "Euler angles are :  [103.97999772 -62.94864593 -13.92836274]\n",
      "Should copy the Inverse Final matrix to unity.\n",
      "the initial scale guess :  3.85\n"
     ]
    }
   ],
   "source": [
    "Final_R = np.dot(R, result_R)\n",
    "Final_t = np.dot(R, result_t) + t\n",
    "Final_T = np.eye(4,4)\n",
    "Final_T[0:3, 0:3] = Final_R\n",
    "Final_T[0:3, 3] = Final_t\n",
    "print(\"Final Matrix is : \")\n",
    "print(Final_T)\n",
    "print(\"Inverse T is : \\n\", inverse_T(Final_T))\n",
    "print(\"Euler angles are : \", rotationMatrixToEulerAngles(inverse_T(Final_T)[0:3, 0:3]))\n",
    "print(\"Should copy the Inverse Final matrix to unity.\")\n",
    "print(\"the initial scale guess : \", scale_guess)"
   ]
  },
  {
   "cell_type": "code",
   "execution_count": 21,
   "metadata": {},
   "outputs": [],
   "source": [
    "point_cloud_o3d_1 = o3d.geometry.PointCloud()\n",
    "point_cloud_o3d_1.points = o3d.utility.Vector3dVector(points_first[:,0:3])\n",
    "colors = [[1, 0, 0] for i in range(points_first.shape[0])]\n",
    "point_cloud_o3d_1.colors = o3d.utility.Vector3dVector(colors)\n",
    "\n",
    "point_cloud_o3d_2 = o3d.geometry.PointCloud()\n",
    "points_second_transformed = Transform_cloud(points_second, Final_R, Final_t)\n",
    "point_cloud_o3d_2.points = o3d.utility.Vector3dVector(points_second_transformed[:,0:3])\n",
    "point_cloud_o3d_2.colors = o3d.utility.Vector3dVector(np.asarray(colors_second) / 255)\n",
    "\n",
    "o3d.visualization.draw_geometries([point_cloud_o3d_1, point_cloud_o3d_2])"
   ]
  },
  {
   "cell_type": "markdown",
   "metadata": {},
   "source": [
    "![image](images/fused_5_matched.PNG)"
   ]
  },
  {
   "cell_type": "code",
   "execution_count": 34,
   "metadata": {},
   "outputs": [
    {
     "name": "stdout",
     "output_type": "stream",
     "text": [
      "0.44148853065346166f, -0.8969043435743231f, -0.025504426654194855f, 12.310358951183794f,\n",
      "-0.10950857000724631f, -0.02564840744604299f, -0.993654932353477f, 1.7681489351641213f,\n",
      "0.8905591595082349f, 0.4414801681147646f, -0.10954216313511526f, -5.588568650747423f,\n",
      "0.0f, 0.0f, 0.0f, 1.0f,\n"
     ]
    }
   ],
   "source": [
    "# write result to txt\n",
    "def print_final_result_for_copy(T):\n",
    "    for i in range(4):\n",
    "        print(str(T[i,0])+'f, ' +str(T[i,1])+'f, '+str(T[i,2])+'f, '+str(T[i,3])+'f,')\n",
    "    \n",
    "print_final_result_for_copy( inverse_T(Final_T))"
   ]
  }
 ],
 "metadata": {
  "kernelspec": {
   "display_name": "Python 3",
   "language": "python",
   "name": "python3"
  },
  "language_info": {
   "codemirror_mode": {
    "name": "ipython",
    "version": 3
   },
   "file_extension": ".py",
   "mimetype": "text/x-python",
   "name": "python",
   "nbconvert_exporter": "python",
   "pygments_lexer": "ipython3",
   "version": "3.7.1"
  }
 },
 "nbformat": 4,
 "nbformat_minor": 2
}
