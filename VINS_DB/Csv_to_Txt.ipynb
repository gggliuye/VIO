{
 "cells": [
  {
   "cell_type": "code",
   "execution_count": 1,
   "metadata": {},
   "outputs": [],
   "source": [
    "sData_path = \"/home/viki/Documents/VioDeepBlue/datasets/A0/\";\n",
    "\n",
    "sImu_data_file_csv = sData_path + \"imu/data.csv\";\n",
    "sImage_file_csv = sData_path + \"camera/data.csv\";\n",
    "sImu_data_file = sData_path + \"imu/data.txt\";\n",
    "sImage_file = sData_path + \"camera/data.txt\";"
   ]
  },
  {
   "cell_type": "code",
   "execution_count": 2,
   "metadata": {},
   "outputs": [],
   "source": [
    "file = open(sImu_data_file_csv,'r')\n",
    "file_out = open(sImu_data_file,'w')\n",
    "file.readline()\n",
    "while True:\n",
    "    text_line = file.readline()\n",
    "    if text_line:\n",
    "        tmp = text_line.replace(\",\", \" \")\n",
    "        file_out.write(tmp)\n",
    "    else:\n",
    "        break\n",
    "file_out.close()"
   ]
  },
  {
   "cell_type": "code",
   "execution_count": 3,
   "metadata": {},
   "outputs": [],
   "source": [
    "file = open(sImage_file_csv,'r')\n",
    "file_out = open(sImage_file,'w')\n",
    "file.readline()\n",
    "while True:\n",
    "    text_line = file.readline()\n",
    "    if text_line:\n",
    "        tmp = text_line.replace(\",\", \" \")\n",
    "        file_out.write(tmp)\n",
    "    else:\n",
    "        break\n",
    "file_out.close()"
   ]
  }
 ],
 "metadata": {
  "kernelspec": {
   "display_name": "Python 3",
   "language": "python",
   "name": "python3"
  },
  "language_info": {
   "codemirror_mode": {
    "name": "ipython",
    "version": 3
   },
   "file_extension": ".py",
   "mimetype": "text/x-python",
   "name": "python",
   "nbconvert_exporter": "python",
   "pygments_lexer": "ipython3",
   "version": "3.6.8"
  }
 },
 "nbformat": 4,
 "nbformat_minor": 2
}
