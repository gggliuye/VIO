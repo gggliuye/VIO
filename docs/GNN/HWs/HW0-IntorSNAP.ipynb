{
 "cells": [
  {
   "cell_type": "code",
   "execution_count": 13,
   "metadata": {},
   "outputs": [],
   "source": [
    "import sys\n",
    "import snap\n",
    "import numpy as np\n",
    "\n",
    "import matplotlib.pyplot as plt"
   ]
  },
  {
   "cell_type": "markdown",
   "metadata": {},
   "source": [
    "# 1. Introduction SNAP\n",
    "\n",
    "Stanford Network Analysis Platform [site](http://snap.stanford.edu/) , in Python and C++ (core in C++).\n",
    "In short Numpy for graph.\n",
    "\n",
    "#### install \n",
    "pip install snap-stanford\n",
    "\n",
    "## 1.1 Types\n",
    "\n",
    "#### Naming conventions\n",
    "\n",
    "To make sure the type we use has corresponding in C++.\n",
    "\n",
    "* Int, Flt, Str\n",
    "* T- for class type, P- for graph object\n",
    "* V- for vector, VV- for vector of vector i.e. matrix, H- for hash table, HH- a hash of hashes, Pr- for pair.\n",
    "* Get- , Set-, I- iterator, Nbr neighbor, Deg degree, Src source, Dst destination, N- node, E- edge.\n",
    "\n",
    "### Vector\n",
    "\n",
    "e.g. TIntV for vector (has fcns Add(), Len(), for item in V, etc)"
   ]
  },
  {
   "cell_type": "code",
   "execution_count": 12,
   "metadata": {
    "scrolled": true
   },
   "outputs": [
    {
     "name": "stdout",
     "output_type": "stream",
     "text": [
      "the length of the vector is :  3\n",
      "1\n",
      "2\n",
      "3\n"
     ]
    }
   ],
   "source": [
    "v = snap.TIntV()\n",
    "\n",
    "v.Add(1); v.Add(2); v.Add(3);\n",
    "\n",
    "print(\"the length of the vector is : \", v.Len())\n",
    "for item in v :\n",
    "    print(item)"
   ]
  },
  {
   "cell_type": "markdown",
   "metadata": {},
   "source": [
    "### Hash Tables : KeyID\n",
    "\n",
    "T key_type value_type H\n",
    "\n",
    "### Pair Types\n",
    "\n",
    "* a pair of (value1, value2)\n",
    "* Tt type1 type2 Pr, e.g. TIntStrPr (GetVal1(), GetVal2())"
   ]
  },
  {
   "cell_type": "code",
   "execution_count": 8,
   "metadata": {},
   "outputs": [
    {
     "name": "stdout",
     "output_type": "stream",
     "text": [
      "1 one\n"
     ]
    }
   ],
   "source": [
    "p = snap.TIntStrPr(1, \"one\")\n",
    "print(p.GetVal1(), p.GetVal2())"
   ]
  },
  {
   "cell_type": "markdown",
   "metadata": {},
   "source": [
    "## 1.2 Graph\n",
    "\n",
    "Graph, network classes\n",
    "* TUNGraph/PUNGraph : undirected graph\n",
    "* TNGraph/PNGraph : directed graph\n",
    "* TNEANet/PNEANet : multigraph with attributes on nodes and edges."
   ]
  },
  {
   "cell_type": "code",
   "execution_count": 11,
   "metadata": {},
   "outputs": [],
   "source": [
    "G1 = snap.TNGraph.New()\n",
    "\n",
    "# firt add the nodes before add the edges\n",
    "G1.AddNode(1); G1.AddNode(5); G1.AddNode(12);\n",
    "\n",
    "G1.AddEdge(1,5); G1.AddEdge(5,1); G1.AddEdge(5,12);\n",
    "\n",
    "G2 = snap.TUNGraph.New()"
   ]
  },
  {
   "cell_type": "code",
   "execution_count": 13,
   "metadata": {},
   "outputs": [
    {
     "name": "stdout",
     "output_type": "stream",
     "text": [
      "node id 1  out degree  1  in-degree  1\n",
      "node id 5  out degree  2  in-degree  1\n",
      "node id 12  out degree  0  in-degree  1\n"
     ]
    }
   ],
   "source": [
    "for NI in G1.Nodes():\n",
    "    print(\"node id\", NI.GetId(), \" out degree \", NI.GetOutDeg(), \" in-degree \", NI.GetInDeg())"
   ]
  },
  {
   "cell_type": "code",
   "execution_count": 28,
   "metadata": {},
   "outputs": [
    {
     "name": "stdout",
     "output_type": "stream",
     "text": [
      "1 0.3031854764501264\n",
      "5 0.3936290470997472\n",
      "12 0.3031854764501264\n"
     ]
    }
   ],
   "source": [
    "PRankH = snap.TIntFltH()\n",
    "snap.GetPageRank(G1,PRankH)\n",
    "\n",
    "for item in PRankH:\n",
    "    print(item, PRankH[item])"
   ]
  },
  {
   "cell_type": "markdown",
   "metadata": {},
   "source": [
    "Save/Load txt:\n",
    "* save : SaveEdgeList(G4, \"text.txt\", \"List of edges\")\n",
    "* load : LoadEdgeList(snap.PNGraph, \"text.txt\", 0, 1). 0, 1 : the position of the wanted edge indices.\n",
    "\n",
    "Save/Load binary (much faster):\n",
    "* FOut = snap.TFOut(\"test.graph\"); G2.Save(FOut); Fout.Flush()\n",
    "* Fin = snap.TFIn(\"test.graph\"); G4 = snap.TNGraph.Load(FIn\n"
   ]
  },
  {
   "cell_type": "markdown",
   "metadata": {},
   "source": [
    "## 1.3 Plotting\n",
    "\n",
    "* Gnuplot / graphviz / Matplotlib : quick but for only small networks\n"
   ]
  },
  {
   "cell_type": "code",
   "execution_count": 5,
   "metadata": {},
   "outputs": [],
   "source": [
    "java_data_path = \"stackoverflow-Java.txt\"\n",
    "G_java = snap.LoadEdgeList(snap.PNGraph, java_data_path, 0, 1)\n",
    "\n",
    "snap.PlotInDegDistr(G_java, \"Stack-Java\", \"Stack-Java In Degree\")"
   ]
  },
  {
   "cell_type": "code",
   "execution_count": 3,
   "metadata": {},
   "outputs": [],
   "source": [
    "snap.PrintInfo(G_java, \"Stack-Java\", \"Stack-Java-info.txt\", False)"
   ]
  },
  {
   "cell_type": "code",
   "execution_count": null,
   "metadata": {},
   "outputs": [],
   "source": [
    "  Stack-Java: Directed\n",
    "  Nodes:                    146874\n",
    "  Edges:                    333606\n",
    "  Zero Deg Nodes:           0\n",
    "  Zero InDeg Nodes:         83443\n",
    "  Zero OutDeg Nodes:        30963\n",
    "  NonZero In-Out Deg Nodes: 32468\n",
    "  Unique directed edges:    333606\n",
    "  Unique undirected edges:  333481\n",
    "  Self Edges:               20600\n",
    "  BiDir Edges:              20850\n",
    "  Closed triangles:         41389\n",
    "  Open triangles:           51597174\n",
    "  Frac. of closed triads:   0.000802\n",
    "  Connected component size: 0.893201\n",
    "  Strong conn. comp. size:  0.029433\n",
    "  Approx. full diameter:    13\n",
    "  90% effective diameter:  5.720483"
   ]
  },
  {
   "cell_type": "code",
   "execution_count": 4,
   "metadata": {},
   "outputs": [],
   "source": [
    "GPA = snap.GenPrefAttach(30,3,snap.TRnd())"
   ]
  },
  {
   "cell_type": "markdown",
   "metadata": {},
   "source": [
    "# 2. Google Cloud\n",
    "\n",
    "Google cloud for higher education\n"
   ]
  },
  {
   "cell_type": "markdown",
   "metadata": {},
   "source": [
    "# 3. HW0\n",
    "\n",
    "## 3.1 Analyzing the Wikipedia voters network"
   ]
  },
  {
   "cell_type": "code",
   "execution_count": 6,
   "metadata": {},
   "outputs": [],
   "source": [
    "wiki_data_path = \"Wiki-Vote.txt\"\n",
    "G_wiki = snap.LoadEdgeList(snap.PNGraph, wiki_data_path, 0, 1)"
   ]
  },
  {
   "cell_type": "code",
   "execution_count": 27,
   "metadata": {},
   "outputs": [
    {
     "name": "stdout",
     "output_type": "stream",
     "text": [
      "The network has 7115 nodes.\n",
      "The network has 0 self-loops.\n"
     ]
    }
   ],
   "source": [
    "num_nodes = snap.CntNonZNodes(G_wiki) + snap.CntDegNodes(G_wiki, 0)\n",
    "print(\"The network has\", num_nodes, \"nodes.\")\n",
    "print(\"The network has\", snap.CntSelfEdges(G_wiki),\"self-loops.\")"
   ]
  },
  {
   "cell_type": "code",
   "execution_count": 25,
   "metadata": {},
   "outputs": [
    {
     "name": "stdout",
     "output_type": "stream",
     "text": [
      "Directed Graph: Count of nodes with degree greater than 0 is 7115\n"
     ]
    }
   ],
   "source": [
    "Count = snap.CntNonZNodes(G_wiki)\n",
    "print(\"Directed Graph: Count of nodes with degree greater than 0 is %d\" % Count)"
   ]
  },
  {
   "cell_type": "code",
   "execution_count": 19,
   "metadata": {},
   "outputs": [
    {
     "name": "stdout",
     "output_type": "stream",
     "text": [
      "Directed Graph: Count of unique directed edges is 103689\n",
      "Directed Graph: Count of unique undirected edges is 100762\n",
      "Directed Graph: The number of reciprocated edges in the network is 2927\n"
     ]
    }
   ],
   "source": [
    "Count_dir= snap.CntUniqDirEdges(G_wiki)\n",
    "print(\"Directed Graph: Count of unique directed edges is %d\" % Count_dir)\n",
    "Count_undir = snap.CntUniqUndirEdges(G_wiki)\n",
    "print(\"Directed Graph: Count of unique undirected edges is %d\" % Count_undir)\n",
    "print(\"Directed Graph: The number of reciprocated edges in the network is %d\" % (Count_dir-Count_undir))"
   ]
  },
  {
   "cell_type": "code",
   "execution_count": 22,
   "metadata": {},
   "outputs": [
    {
     "name": "stdout",
     "output_type": "stream",
     "text": [
      "Directed Graph: Count of nodes with in-degree 0 is 4734\n",
      "Directed Graph: Count of nodes with out-degree 0 is 1005\n"
     ]
    }
   ],
   "source": [
    "Count_in = snap.CntInDegNodes(G_wiki, 0)\n",
    "print(\"Directed Graph: Count of nodes with in-degree 0 is %d\" % Count_in)\n",
    "Count_out = snap.CntOutDegNodes(G_wiki, 0)\n",
    "print(\"Directed Graph: Count of nodes with out-degree 0 is %d\" % Count_out)"
   ]
  },
  {
   "cell_type": "code",
   "execution_count": 30,
   "metadata": {},
   "outputs": [
    {
     "name": "stdout",
     "output_type": "stream",
     "text": [
      "Directed Graph: Count of nodes with in-degree less than 10 is 5165\n",
      "Directed Graph: Count of nodes with out-degree less than 10 is 5424\n",
      "Directed Graph: Count of nodes with out-degree no less than 10 is 1691\n"
     ]
    }
   ],
   "source": [
    "Count_in_l10 = 0\n",
    "Count_out_l10 = 0\n",
    "for i in range(10):\n",
    "    Count_in = snap.CntInDegNodes(G_wiki, i)\n",
    "    Count_out = snap.CntOutDegNodes(G_wiki, i)\n",
    "    Count_in_l10 += Count_in\n",
    "    Count_out_l10 += Count_out\n",
    "print(\"Directed Graph: Count of nodes with in-degree less than 10 is %d\" % Count_in_l10)\n",
    "print(\"Directed Graph: Count of nodes with out-degree less than 10 is %d\" % Count_out_l10)\n",
    "print(\"Directed Graph: Count of nodes with out-degree no less than 10 is %d\" % (num_nodes-Count_out_l10))"
   ]
  },
  {
   "cell_type": "markdown",
   "metadata": {},
   "source": [
    "## 3.2 Further Analyzing the Wikipedia voters network"
   ]
  },
  {
   "cell_type": "code",
   "execution_count": 31,
   "metadata": {},
   "outputs": [],
   "source": [
    "snap.PrintInfo(G_wiki, \"wiki\", \"wiki-info.txt\", False)"
   ]
  },
  {
   "cell_type": "code",
   "execution_count": 61,
   "metadata": {},
   "outputs": [],
   "source": [
    "head_name = \"wiki\"\n",
    "snap.PlotInDegDistr(G_wiki, head_name, \"wiki In Degree\")\n",
    "indegree = np.loadtxt(\"inDeg.\"+head_name+\".tab\")\n",
    "snap.PlotOutDegDistr(G_wiki, head_name, \"wiki Out Degree\")\n",
    "outdegree = np.loadtxt(\"outDeg.\"+head_name+\".tab\")"
   ]
  },
  {
   "cell_type": "code",
   "execution_count": 62,
   "metadata": {},
   "outputs": [],
   "source": [
    "# filter zero entities\n",
    "filtered = outdegree[:,1] > 0 \n",
    "outdegree = outdegree[filtered, :]\n",
    "\n",
    "# filter zero entities\n",
    "filtered = indegree[:,1] > 0 \n",
    "indegree = indegree[filtered, :]"
   ]
  },
  {
   "cell_type": "code",
   "execution_count": 82,
   "metadata": {},
   "outputs": [],
   "source": [
    "z = np.polyfit(np.log10(outdegree[1:,0]), np.log10(outdegree[1:,1]), 1)\n",
    "a = z[0]; b = z[1];"
   ]
  },
  {
   "cell_type": "code",
   "execution_count": 87,
   "metadata": {},
   "outputs": [],
   "source": [
    "estimated_degree = np.power(10,b)*np.power(outdegree[1:,0], a)"
   ]
  },
  {
   "cell_type": "code",
   "execution_count": 89,
   "metadata": {
    "scrolled": true
   },
   "outputs": [
    {
     "data": {
      "text/plain": [
       "Text(0.5, 1.0, 'Log-Log plot of the in-degree')"
      ]
     },
     "execution_count": 89,
     "metadata": {},
     "output_type": "execute_result"
    },
    {
     "data": {
      "image/png": "[encoded data removed]",
      "text/plain": [
       "<Figure size 864x216 with 2 Axes>"
      ]
     },
     "metadata": {
      "needs_background": "light"
     },
     "output_type": "display_data"
    }
   ],
   "source": [
    "plt.figure(figsize=(12,3))\n",
    "plt.subplot(121)\n",
    "plt.loglog(outdegree[:,0], outdegree[:,1])\n",
    "plt.loglog(outdegree[1:,0], estimated_degree)\n",
    "plt.title(\"Log-Log plot of the out-degree\")\n",
    "plt.subplot(122)\n",
    "plt.loglog(indegree[:,0], indegree[:,1])\n",
    "plt.title(\"Log-Log plot of the in-degree\")"
   ]
  },
  {
   "cell_type": "markdown",
   "metadata": {},
   "source": [
    "## 3.3 Finding Experts on the Java Programming Language on StackOverow"
   ]
  },
  {
   "cell_type": "code",
   "execution_count": 90,
   "metadata": {},
   "outputs": [],
   "source": [
    "java_data_path = \"stackoverflow-Java.txt\"\n",
    "G_java = snap.LoadEdgeList(snap.PNGraph, java_data_path, 0, 1)"
   ]
  },
  {
   "cell_type": "code",
   "execution_count": 95,
   "metadata": {},
   "outputs": [
    {
     "name": "stdout",
     "output_type": "stream",
     "text": [
      "Number of weakly connected component: 10143\n"
     ]
    }
   ],
   "source": [
    "Components = snap.TCnComV()\n",
    "snap.GetWccs(G_java, Components)\n",
    "print(\"Number of weakly connected component: %d\" % Components.Len())"
   ]
  },
  {
   "cell_type": "code",
   "execution_count": 101,
   "metadata": {},
   "outputs": [
    {
     "name": "stdout",
     "output_type": "stream",
     "text": [
      "322486 edges and 131188 nodes inthe largest weakly connected component.\n"
     ]
    }
   ],
   "source": [
    "MxWcc = snap.GetMxWcc(G_java)\n",
    "num_edges = 0\n",
    "num_nodes = 0\n",
    "for EI in MxWcc.Edges():\n",
    "    num_edges += 1\n",
    "for EI in MxWcc.Nodes():\n",
    "    num_nodes += 1\n",
    "print(num_edges,  \"edges and\",num_nodes, \"nodes inthe largest weakly connected component.\")"
   ]
  },
  {
   "cell_type": "code",
   "execution_count": 103,
   "metadata": {},
   "outputs": [
    {
     "name": "stdout",
     "output_type": "stream",
     "text": [
      "78 2.4082266411394174e-06\n",
      "86 1.0954090787330643e-05\n",
      "58 2.7410854878087346e-06\n"
     ]
    }
   ],
   "source": [
    "PRankH = snap.TIntFltH()\n",
    "snap.GetPageRank(G_java, PRankH)\n",
    "i_count = 0\n",
    "for item in PRankH:\n",
    "    i_count += 1\n",
    "    if(i_count > 3):\n",
    "        break\n",
    "    print(item, PRankH[item])"
   ]
  },
  {
   "cell_type": "code",
   "execution_count": null,
   "metadata": {},
   "outputs": [],
   "source": [
    "NIdHubH = snap.TIntFltH()\n",
    "NIdAuthH = snap.TIntFltH()\n",
    "snap.GetHits(G_java, NIdHubH, NIdAuthH)\n",
    "i_count = 0\n",
    "for item in NIdHubH\n",
    "    print(item, NIdHubH[item])\n",
    "for item in NIdAuthH:\n",
    "    print(item, NIdAuthH[item])"
   ]
  }
 ],
 "metadata": {
  "kernelspec": {
   "display_name": "Python 3",
   "language": "python",
   "name": "python3"
  },
  "language_info": {
   "codemirror_mode": {
    "name": "ipython",
    "version": 3
   },
   "file_extension": ".py",
   "mimetype": "text/x-python",
   "name": "python",
   "nbconvert_exporter": "python",
   "pygments_lexer": "ipython3",
   "version": "3.7.1"
  }
 },
 "nbformat": 4,
 "nbformat_minor": 2
}
